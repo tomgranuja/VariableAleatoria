{
 "cells": [
  {
   "cell_type": "markdown",
   "metadata": {},
   "source": [
    "# Jupyter notebooks ¿Qué es esto?\n",
    "\n",
    "Jupyter notebooks permite **ejecutar** un programa por partes.\n",
    "Cada parte se llama **celda**, y contiene código que es posible cambiar y ejecutar para ver los resultados.\n",
    "\n",
    "![](celdas_jupyter.png)"
   ]
  },
  {
   "cell_type": "markdown",
   "metadata": {},
   "source": [
    "## ¿Qué celda, qué código?\n",
    "\n",
    "Los rectángulos grises tienen palabras, números y símbolos en idioma de programación que no necesitas conocer por ahora. Los puntos claves se indican con ```#```. Son comentarios que te indican en español lo que debes hacer.\n",
    "\n",
    "![](comment_code.png?mod=2)"
   ]
  },
  {
   "cell_type": "markdown",
   "metadata": {},
   "source": [
    "## Ejecuta la siguiente celda con Ctrl-Enter\n"
   ]
  },
  {
   "cell_type": "code",
   "execution_count": null,
   "metadata": {},
   "outputs": [],
   "source": [
    "#Haz click en esta celda y ejecútala\n",
    "[print(i + 1) for i in range(6)];"
   ]
  },
  {
   "cell_type": "markdown",
   "metadata": {},
   "source": [
    "Si todo anda bien, debiera aparecer el resultado de ejecutar la celda anterior. Es una lista de 6 números."
   ]
  },
  {
   "cell_type": "markdown",
   "metadata": {},
   "source": [
    "## Edita y ejecuta la siguiente celda"
   ]
  },
  {
   "cell_type": "code",
   "execution_count": null,
   "metadata": {},
   "outputs": [],
   "source": [
    "#Reemplaza por tu nombre entre comillas\n",
    "nombre = \"Priscilla\"\n",
    "\n",
    "#Reemplaza por tu número de años\n",
    "edad = 30\n",
    "\n",
    "#Listo, no hagas más cambios. Dale Ctrl-Enter\n",
    "print('#'*(edad//2) + nombre + '#'*(edad//2))\n",
    "print(f'Mi nombre es {nombre} y tengo {edad} primaveras.')\n",
    "print('#'*(edad//2) + '#'*len(nombre) + '#'*(edad//2))"
   ]
  },
  {
   "cell_type": "markdown",
   "metadata": {},
   "source": [
    "## ¡Ya está!\n",
    "\n",
    "Aquí llegas al final de este tutorial. Logrando editar y ejecutar celdas ya puedes trabajar con el notebook variables aleatorias."
   ]
  }
 ],
 "metadata": {
  "kernelspec": {
   "display_name": "Python 3",
   "language": "python",
   "name": "python3"
  },
  "language_info": {
   "codemirror_mode": {
    "name": "ipython",
    "version": 3
   },
   "file_extension": ".py",
   "mimetype": "text/x-python",
   "name": "python",
   "nbconvert_exporter": "python",
   "pygments_lexer": "ipython3",
   "version": "3.7.4"
  }
 },
 "nbformat": 4,
 "nbformat_minor": 2
}
